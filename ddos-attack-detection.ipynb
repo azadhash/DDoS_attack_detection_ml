{
 "cells": [
  {
   "cell_type": "markdown",
   "id": "17afd039",
   "metadata": {
    "id": "view-in-github",
    "papermill": {
     "duration": 0.026431,
     "end_time": "2023-05-18T06:34:03.773685",
     "exception": false,
     "start_time": "2023-05-18T06:34:03.747254",
     "status": "completed"
    },
    "tags": []
   },
   "source": [
    "<a href=\"https://colab.research.google.com/github/singh-azad/project/blob/main/ddos.ipynb\" target=\"_parent\"><img src=\"https://colab.research.google.com/assets/colab-badge.svg\" alt=\"Open In Colab\"/></a>"
   ]
  },
  {
   "cell_type": "markdown",
   "id": "967673ff",
   "metadata": {
    "id": "R8CcvedyMifB",
    "papermill": {
     "duration": 0.023144,
     "end_time": "2023-05-18T06:34:03.820324",
     "exception": false,
     "start_time": "2023-05-18T06:34:03.797180",
     "status": "completed"
    },
    "tags": []
   },
   "source": [
    "# **Detection of DDoS attack using Attention base Machine Learning**"
   ]
  },
  {
   "cell_type": "markdown",
   "id": "6ed96d4c",
   "metadata": {
    "id": "AJgnKTpPJ9YX",
    "papermill": {
     "duration": 0.022983,
     "end_time": "2023-05-18T06:34:03.866393",
     "exception": false,
     "start_time": "2023-05-18T06:34:03.843410",
     "status": "completed"
    },
    "tags": []
   },
   "source": [
    "## **Libraries imported**"
   ]
  },
  {
   "cell_type": "code",
   "execution_count": 1,
   "id": "dec1ae95",
   "metadata": {
    "execution": {
     "iopub.execute_input": "2023-05-18T06:34:03.916442Z",
     "iopub.status.busy": "2023-05-18T06:34:03.915261Z",
     "iopub.status.idle": "2023-05-18T06:34:05.871245Z",
     "shell.execute_reply": "2023-05-18T06:34:05.870150Z"
    },
    "id": "WfgzrYZXenQk",
    "papermill": {
     "duration": 1.98425,
     "end_time": "2023-05-18T06:34:05.874225",
     "exception": false,
     "start_time": "2023-05-18T06:34:03.889975",
     "status": "completed"
    },
    "tags": []
   },
   "outputs": [
    {
     "name": "stderr",
     "output_type": "stream",
     "text": [
      "/opt/conda/lib/python3.10/site-packages/scipy/__init__.py:146: UserWarning: A NumPy version >=1.16.5 and <1.23.0 is required for this version of SciPy (detected version 1.23.5\n",
      "  warnings.warn(f\"A NumPy version >={np_minversion} and <{np_maxversion}\"\n"
     ]
    }
   ],
   "source": [
    "import pandas as pd\n",
    "import numpy as np\n",
    "import time\n",
    "from sklearn.feature_selection import SelectKBest, f_classif\n",
    "from sklearn.model_selection import train_test_split\n",
    "from sklearn.ensemble import RandomForestClassifier\n",
    "from sklearn.preprocessing import StandardScaler\n",
    "from sklearn.metrics import confusion_matrix\n",
    "from sklearn.model_selection import KFold\n",
    "from sklearn.model_selection import cross_val_score\n",
    "from sklearn.metrics import accuracy_score\n",
    "from sklearn.metrics import f1_score\n",
    "from sklearn.metrics import recall_score\n",
    "from sklearn.metrics import precision_score"
   ]
  },
  {
   "cell_type": "markdown",
   "id": "1fc5f930",
   "metadata": {
    "id": "n6P1xJS8KKWt",
    "papermill": {
     "duration": 0.02268,
     "end_time": "2023-05-18T06:34:05.920105",
     "exception": false,
     "start_time": "2023-05-18T06:34:05.897425",
     "status": "completed"
    },
    "tags": []
   },
   "source": [
    "## **Dataset**"
   ]
  },
  {
   "cell_type": "code",
   "execution_count": 2,
   "id": "e069fd17",
   "metadata": {
    "execution": {
     "iopub.execute_input": "2023-05-18T06:34:05.970411Z",
     "iopub.status.busy": "2023-05-18T06:34:05.969964Z",
     "iopub.status.idle": "2023-05-18T06:34:09.707550Z",
     "shell.execute_reply": "2023-05-18T06:34:09.706103Z"
    },
    "id": "muHUFcUVerzq",
    "papermill": {
     "duration": 3.765984,
     "end_time": "2023-05-18T06:34:09.710481",
     "exception": false,
     "start_time": "2023-05-18T06:34:05.944497",
     "status": "completed"
    },
    "tags": []
   },
   "outputs": [],
   "source": [
    "df = pd.read_csv('/kaggle/input/ddos-dataset/Friday-WorkingHours-Afternoon-DDos.pcap_ISCX.csv')"
   ]
  },
  {
   "cell_type": "markdown",
   "id": "fe0b1a4b",
   "metadata": {
    "id": "cVMdRgb3MXbX",
    "papermill": {
     "duration": 0.022932,
     "end_time": "2023-05-18T06:34:09.756728",
     "exception": false,
     "start_time": "2023-05-18T06:34:09.733796",
     "status": "completed"
    },
    "tags": []
   },
   "source": [
    "## **Data** **Preprocessing**"
   ]
  },
  {
   "cell_type": "markdown",
   "id": "45bb499b",
   "metadata": {
    "id": "QtPCttxxKNfE",
    "papermill": {
     "duration": 0.022976,
     "end_time": "2023-05-18T06:34:09.802472",
     "exception": false,
     "start_time": "2023-05-18T06:34:09.779496",
     "status": "completed"
    },
    "tags": []
   },
   "source": [
    "**Converting IP adddresses into int**"
   ]
  },
  {
   "cell_type": "code",
   "execution_count": 3,
   "id": "909c6037",
   "metadata": {
    "execution": {
     "iopub.execute_input": "2023-05-18T06:34:09.852619Z",
     "iopub.status.busy": "2023-05-18T06:34:09.852191Z",
     "iopub.status.idle": "2023-05-18T06:34:09.859480Z",
     "shell.execute_reply": "2023-05-18T06:34:09.858295Z"
    },
    "id": "hQ00P7RQaVs2",
    "papermill": {
     "duration": 0.037102,
     "end_time": "2023-05-18T06:34:09.862333",
     "exception": false,
     "start_time": "2023-05-18T06:34:09.825231",
     "status": "completed"
    },
    "tags": []
   },
   "outputs": [],
   "source": [
    "import ipaddress"
   ]
  },
  {
   "cell_type": "code",
   "execution_count": 4,
   "id": "163a9539",
   "metadata": {
    "execution": {
     "iopub.execute_input": "2023-05-18T06:34:09.911152Z",
     "iopub.status.busy": "2023-05-18T06:34:09.910733Z",
     "iopub.status.idle": "2023-05-18T06:34:13.332432Z",
     "shell.execute_reply": "2023-05-18T06:34:13.331204Z"
    },
    "id": "grq_3VJQhfwZ",
    "papermill": {
     "duration": 3.449842,
     "end_time": "2023-05-18T06:34:13.335225",
     "exception": false,
     "start_time": "2023-05-18T06:34:09.885383",
     "status": "completed"
    },
    "tags": []
   },
   "outputs": [],
   "source": [
    "df['NumericalSourceIP'] = df[' Source IP'].apply(lambda x: int(ipaddress.IPv4Address(x)))\n",
    "df['NumericalDestinationIP'] = df[' Destination IP'].apply(lambda x: int(ipaddress.IPv4Address(x)))"
   ]
  },
  {
   "cell_type": "markdown",
   "id": "a789b4cc",
   "metadata": {
    "id": "U16cs-NiKWKF",
    "papermill": {
     "duration": 0.023757,
     "end_time": "2023-05-18T06:34:13.382132",
     "exception": false,
     "start_time": "2023-05-18T06:34:13.358375",
     "status": "completed"
    },
    "tags": []
   },
   "source": [
    "**Converting timestamp to int and storing in 'Timestamp'**"
   ]
  },
  {
   "cell_type": "code",
   "execution_count": 5,
   "id": "bb24dfa8",
   "metadata": {
    "execution": {
     "iopub.execute_input": "2023-05-18T06:34:13.430301Z",
     "iopub.status.busy": "2023-05-18T06:34:13.429858Z",
     "iopub.status.idle": "2023-05-18T06:34:13.501857Z",
     "shell.execute_reply": "2023-05-18T06:34:13.500697Z"
    },
    "id": "rEgAmkTDi8FD",
    "papermill": {
     "duration": 0.09967,
     "end_time": "2023-05-18T06:34:13.504832",
     "exception": false,
     "start_time": "2023-05-18T06:34:13.405162",
     "status": "completed"
    },
    "tags": []
   },
   "outputs": [],
   "source": [
    "df['Timestamp'] = pd.to_datetime(df[' Timestamp']).astype(int) / 10**9"
   ]
  },
  {
   "cell_type": "markdown",
   "id": "81843b2e",
   "metadata": {
    "id": "YWHPEO7GLJJv",
    "papermill": {
     "duration": 0.022711,
     "end_time": "2023-05-18T06:34:13.551559",
     "exception": false,
     "start_time": "2023-05-18T06:34:13.528848",
     "status": "completed"
    },
    "tags": []
   },
   "source": [
    "**Before droping the columns in dataframe**"
   ]
  },
  {
   "cell_type": "code",
   "execution_count": 6,
   "id": "ebf5441f",
   "metadata": {
    "execution": {
     "iopub.execute_input": "2023-05-18T06:34:13.601193Z",
     "iopub.status.busy": "2023-05-18T06:34:13.600747Z",
     "iopub.status.idle": "2023-05-18T06:34:13.610384Z",
     "shell.execute_reply": "2023-05-18T06:34:13.609285Z"
    },
    "id": "qlW-ibBHq_po",
    "papermill": {
     "duration": 0.037107,
     "end_time": "2023-05-18T06:34:13.612874",
     "exception": false,
     "start_time": "2023-05-18T06:34:13.575767",
     "status": "completed"
    },
    "tags": []
   },
   "outputs": [
    {
     "data": {
      "text/plain": [
       "Index(['Flow ID', ' Source IP', ' Source Port', ' Destination IP',\n",
       "       ' Destination Port', ' Protocol', ' Timestamp', ' Flow Duration',\n",
       "       ' Total Fwd Packets', ' Total Backward Packets',\n",
       "       'Total Length of Fwd Packets', ' Total Length of Bwd Packets',\n",
       "       ' Fwd Packet Length Max', ' Fwd Packet Length Min',\n",
       "       ' Fwd Packet Length Mean', ' Fwd Packet Length Std',\n",
       "       'Bwd Packet Length Max', ' Bwd Packet Length Min',\n",
       "       ' Bwd Packet Length Mean', ' Bwd Packet Length Std', 'Flow Bytes/s',\n",
       "       ' Flow Packets/s', ' Flow IAT Mean', ' Flow IAT Std', ' Flow IAT Max',\n",
       "       ' Flow IAT Min', 'Fwd IAT Total', ' Fwd IAT Mean', ' Fwd IAT Std',\n",
       "       ' Fwd IAT Max', ' Fwd IAT Min', 'Bwd IAT Total', ' Bwd IAT Mean',\n",
       "       ' Bwd IAT Std', ' Bwd IAT Max', ' Bwd IAT Min', 'Fwd PSH Flags',\n",
       "       ' Bwd PSH Flags', ' Fwd URG Flags', ' Bwd URG Flags',\n",
       "       ' Fwd Header Length', ' Bwd Header Length', 'Fwd Packets/s',\n",
       "       ' Bwd Packets/s', ' Min Packet Length', ' Max Packet Length',\n",
       "       ' Packet Length Mean', ' Packet Length Std', ' Packet Length Variance',\n",
       "       'FIN Flag Count', ' SYN Flag Count', ' RST Flag Count',\n",
       "       ' PSH Flag Count', ' ACK Flag Count', ' URG Flag Count',\n",
       "       ' CWE Flag Count', ' ECE Flag Count', ' Down/Up Ratio',\n",
       "       ' Average Packet Size', ' Avg Fwd Segment Size',\n",
       "       ' Avg Bwd Segment Size', ' Fwd Header Length.1', 'Fwd Avg Bytes/Bulk',\n",
       "       ' Fwd Avg Packets/Bulk', ' Fwd Avg Bulk Rate', ' Bwd Avg Bytes/Bulk',\n",
       "       ' Bwd Avg Packets/Bulk', 'Bwd Avg Bulk Rate', 'Subflow Fwd Packets',\n",
       "       ' Subflow Fwd Bytes', ' Subflow Bwd Packets', ' Subflow Bwd Bytes',\n",
       "       'Init_Win_bytes_forward', ' Init_Win_bytes_backward',\n",
       "       ' act_data_pkt_fwd', ' min_seg_size_forward', 'Active Mean',\n",
       "       ' Active Std', ' Active Max', ' Active Min', 'Idle Mean', ' Idle Std',\n",
       "       ' Idle Max', ' Idle Min', ' Label', 'NumericalSourceIP',\n",
       "       'NumericalDestinationIP', 'Timestamp'],\n",
       "      dtype='object')"
      ]
     },
     "execution_count": 6,
     "metadata": {},
     "output_type": "execute_result"
    }
   ],
   "source": [
    "df.columns"
   ]
  },
  {
   "cell_type": "markdown",
   "id": "54f1fbf5",
   "metadata": {
    "id": "KRTFN9hHKqc1",
    "papermill": {
     "duration": 0.023003,
     "end_time": "2023-05-18T06:34:13.659451",
     "exception": false,
     "start_time": "2023-05-18T06:34:13.636448",
     "status": "completed"
    },
    "tags": []
   },
   "source": [
    "**droping the columns Flow Id, Source IP, Destination IP, Timestamp**"
   ]
  },
  {
   "cell_type": "code",
   "execution_count": 7,
   "id": "947bb056",
   "metadata": {
    "execution": {
     "iopub.execute_input": "2023-05-18T06:34:13.708157Z",
     "iopub.status.busy": "2023-05-18T06:34:13.707755Z",
     "iopub.status.idle": "2023-05-18T06:34:13.777685Z",
     "shell.execute_reply": "2023-05-18T06:34:13.776504Z"
    },
    "id": "3L5LV_yciJqe",
    "papermill": {
     "duration": 0.097727,
     "end_time": "2023-05-18T06:34:13.780646",
     "exception": false,
     "start_time": "2023-05-18T06:34:13.682919",
     "status": "completed"
    },
    "tags": []
   },
   "outputs": [],
   "source": [
    "columns_to_drop = ['Flow ID', ' Source IP', ' Destination IP', ' Timestamp']\n",
    "df = df.drop(columns_to_drop, axis=1)"
   ]
  },
  {
   "cell_type": "markdown",
   "id": "1c2dbd3d",
   "metadata": {
    "id": "V8m-IP71LO9x",
    "papermill": {
     "duration": 0.022781,
     "end_time": "2023-05-18T06:34:13.827338",
     "exception": false,
     "start_time": "2023-05-18T06:34:13.804557",
     "status": "completed"
    },
    "tags": []
   },
   "source": [
    "**After droping the columns**"
   ]
  },
  {
   "cell_type": "code",
   "execution_count": 8,
   "id": "ac7ccb8f",
   "metadata": {
    "execution": {
     "iopub.execute_input": "2023-05-18T06:34:13.875875Z",
     "iopub.status.busy": "2023-05-18T06:34:13.875446Z",
     "iopub.status.idle": "2023-05-18T06:34:13.884002Z",
     "shell.execute_reply": "2023-05-18T06:34:13.882707Z"
    },
    "id": "_B6POStkrLWF",
    "papermill": {
     "duration": 0.035911,
     "end_time": "2023-05-18T06:34:13.886412",
     "exception": false,
     "start_time": "2023-05-18T06:34:13.850501",
     "status": "completed"
    },
    "tags": []
   },
   "outputs": [
    {
     "data": {
      "text/plain": [
       "Index([' Source Port', ' Destination Port', ' Protocol', ' Flow Duration',\n",
       "       ' Total Fwd Packets', ' Total Backward Packets',\n",
       "       'Total Length of Fwd Packets', ' Total Length of Bwd Packets',\n",
       "       ' Fwd Packet Length Max', ' Fwd Packet Length Min',\n",
       "       ' Fwd Packet Length Mean', ' Fwd Packet Length Std',\n",
       "       'Bwd Packet Length Max', ' Bwd Packet Length Min',\n",
       "       ' Bwd Packet Length Mean', ' Bwd Packet Length Std', 'Flow Bytes/s',\n",
       "       ' Flow Packets/s', ' Flow IAT Mean', ' Flow IAT Std', ' Flow IAT Max',\n",
       "       ' Flow IAT Min', 'Fwd IAT Total', ' Fwd IAT Mean', ' Fwd IAT Std',\n",
       "       ' Fwd IAT Max', ' Fwd IAT Min', 'Bwd IAT Total', ' Bwd IAT Mean',\n",
       "       ' Bwd IAT Std', ' Bwd IAT Max', ' Bwd IAT Min', 'Fwd PSH Flags',\n",
       "       ' Bwd PSH Flags', ' Fwd URG Flags', ' Bwd URG Flags',\n",
       "       ' Fwd Header Length', ' Bwd Header Length', 'Fwd Packets/s',\n",
       "       ' Bwd Packets/s', ' Min Packet Length', ' Max Packet Length',\n",
       "       ' Packet Length Mean', ' Packet Length Std', ' Packet Length Variance',\n",
       "       'FIN Flag Count', ' SYN Flag Count', ' RST Flag Count',\n",
       "       ' PSH Flag Count', ' ACK Flag Count', ' URG Flag Count',\n",
       "       ' CWE Flag Count', ' ECE Flag Count', ' Down/Up Ratio',\n",
       "       ' Average Packet Size', ' Avg Fwd Segment Size',\n",
       "       ' Avg Bwd Segment Size', ' Fwd Header Length.1', 'Fwd Avg Bytes/Bulk',\n",
       "       ' Fwd Avg Packets/Bulk', ' Fwd Avg Bulk Rate', ' Bwd Avg Bytes/Bulk',\n",
       "       ' Bwd Avg Packets/Bulk', 'Bwd Avg Bulk Rate', 'Subflow Fwd Packets',\n",
       "       ' Subflow Fwd Bytes', ' Subflow Bwd Packets', ' Subflow Bwd Bytes',\n",
       "       'Init_Win_bytes_forward', ' Init_Win_bytes_backward',\n",
       "       ' act_data_pkt_fwd', ' min_seg_size_forward', 'Active Mean',\n",
       "       ' Active Std', ' Active Max', ' Active Min', 'Idle Mean', ' Idle Std',\n",
       "       ' Idle Max', ' Idle Min', ' Label', 'NumericalSourceIP',\n",
       "       'NumericalDestinationIP', 'Timestamp'],\n",
       "      dtype='object')"
      ]
     },
     "execution_count": 8,
     "metadata": {},
     "output_type": "execute_result"
    }
   ],
   "source": [
    "df.columns"
   ]
  },
  {
   "cell_type": "markdown",
   "id": "81b1ab71",
   "metadata": {
    "id": "p2BkR27cLS9p",
    "papermill": {
     "duration": 0.025175,
     "end_time": "2023-05-18T06:34:13.934998",
     "exception": false,
     "start_time": "2023-05-18T06:34:13.909823",
     "status": "completed"
    },
    "tags": []
   },
   "source": [
    "**Deleting infinite values and null values**"
   ]
  },
  {
   "cell_type": "code",
   "execution_count": 9,
   "id": "eb453cb3",
   "metadata": {
    "execution": {
     "iopub.execute_input": "2023-05-18T06:34:13.984379Z",
     "iopub.status.busy": "2023-05-18T06:34:13.983457Z",
     "iopub.status.idle": "2023-05-18T06:34:14.327805Z",
     "shell.execute_reply": "2023-05-18T06:34:14.326351Z"
    },
    "id": "Gl_L6KzLnDZ6",
    "papermill": {
     "duration": 0.372597,
     "end_time": "2023-05-18T06:34:14.330854",
     "exception": false,
     "start_time": "2023-05-18T06:34:13.958257",
     "status": "completed"
    },
    "tags": []
   },
   "outputs": [],
   "source": [
    "df = df[~np.isinf(df['Flow Bytes/s'])]\n",
    "df.dropna(inplace=True)"
   ]
  },
  {
   "cell_type": "code",
   "execution_count": 10,
   "id": "d770f783",
   "metadata": {
    "execution": {
     "iopub.execute_input": "2023-05-18T06:34:14.379686Z",
     "iopub.status.busy": "2023-05-18T06:34:14.379018Z",
     "iopub.status.idle": "2023-05-18T06:34:14.433075Z",
     "shell.execute_reply": "2023-05-18T06:34:14.431952Z"
    },
    "id": "tp0HF8X5eyii",
    "papermill": {
     "duration": 0.082097,
     "end_time": "2023-05-18T06:34:14.436199",
     "exception": false,
     "start_time": "2023-05-18T06:34:14.354102",
     "status": "completed"
    },
    "tags": []
   },
   "outputs": [],
   "source": [
    "X = df.drop(' Label', axis=1)\n",
    "y = df[' Label']"
   ]
  },
  {
   "cell_type": "markdown",
   "id": "f9a16171",
   "metadata": {
    "id": "Zh0VEOWkLdKJ",
    "papermill": {
     "duration": 0.023142,
     "end_time": "2023-05-18T06:34:14.483421",
     "exception": false,
     "start_time": "2023-05-18T06:34:14.460279",
     "status": "completed"
    },
    "tags": []
   },
   "source": [
    "**Spliting the dataset in *train* and *test* set**"
   ]
  },
  {
   "cell_type": "code",
   "execution_count": 11,
   "id": "b8401fcf",
   "metadata": {
    "execution": {
     "iopub.execute_input": "2023-05-18T06:34:14.532762Z",
     "iopub.status.busy": "2023-05-18T06:34:14.532093Z",
     "iopub.status.idle": "2023-05-18T06:34:14.738682Z",
     "shell.execute_reply": "2023-05-18T06:34:14.736794Z"
    },
    "id": "GHGZw7dGfH7r",
    "papermill": {
     "duration": 0.23443,
     "end_time": "2023-05-18T06:34:14.741578",
     "exception": false,
     "start_time": "2023-05-18T06:34:14.507148",
     "status": "completed"
    },
    "tags": []
   },
   "outputs": [],
   "source": [
    "X_train, X_test, y_train, y_test = train_test_split(X, y, test_size=0.2, random_state=42)"
   ]
  },
  {
   "cell_type": "markdown",
   "id": "6512835a",
   "metadata": {
    "id": "t6P51LuwLyqF",
    "papermill": {
     "duration": 0.025089,
     "end_time": "2023-05-18T06:34:14.790646",
     "exception": false,
     "start_time": "2023-05-18T06:34:14.765557",
     "status": "completed"
    },
    "tags": []
   },
   "source": [
    "**Checking the shape of the data set**"
   ]
  },
  {
   "cell_type": "code",
   "execution_count": 12,
   "id": "a067129f",
   "metadata": {
    "execution": {
     "iopub.execute_input": "2023-05-18T06:34:14.840972Z",
     "iopub.status.busy": "2023-05-18T06:34:14.840197Z",
     "iopub.status.idle": "2023-05-18T06:34:14.846114Z",
     "shell.execute_reply": "2023-05-18T06:34:14.844689Z"
    },
    "id": "pjDP0tNWfg8K",
    "papermill": {
     "duration": 0.033772,
     "end_time": "2023-05-18T06:34:14.848317",
     "exception": false,
     "start_time": "2023-05-18T06:34:14.814545",
     "status": "completed"
    },
    "tags": []
   },
   "outputs": [
    {
     "name": "stdout",
     "output_type": "stream",
     "text": [
      "83\n"
     ]
    }
   ],
   "source": [
    "num_columns = X.shape[1]\n",
    "print(num_columns)"
   ]
  },
  {
   "cell_type": "markdown",
   "id": "e6416958",
   "metadata": {
    "id": "WGP2S4ymL57G",
    "papermill": {
     "duration": 0.023492,
     "end_time": "2023-05-18T06:34:14.895299",
     "exception": false,
     "start_time": "2023-05-18T06:34:14.871807",
     "status": "completed"
    },
    "tags": []
   },
   "source": [
    "### **Features selection**"
   ]
  },
  {
   "cell_type": "markdown",
   "id": "228a558f",
   "metadata": {
    "id": "wJnXtYyxNLOZ",
    "papermill": {
     "duration": 0.023176,
     "end_time": "2023-05-18T06:34:14.942192",
     "exception": false,
     "start_time": "2023-05-18T06:34:14.919016",
     "status": "completed"
    },
    "tags": []
   },
   "source": [
    "\n",
    ">**Best 15 features is selected and stored in X_train_selected and X_test_selected**\n",
    "\n"
   ]
  },
  {
   "cell_type": "code",
   "execution_count": 13,
   "id": "2403f67f",
   "metadata": {
    "execution": {
     "iopub.execute_input": "2023-05-18T06:34:14.992764Z",
     "iopub.status.busy": "2023-05-18T06:34:14.992347Z",
     "iopub.status.idle": "2023-05-18T06:34:15.750087Z",
     "shell.execute_reply": "2023-05-18T06:34:15.748919Z"
    },
    "id": "B48FXsLifR7Q",
    "papermill": {
     "duration": 0.786015,
     "end_time": "2023-05-18T06:34:15.752647",
     "exception": false,
     "start_time": "2023-05-18T06:34:14.966632",
     "status": "completed"
    },
    "tags": []
   },
   "outputs": [
    {
     "name": "stderr",
     "output_type": "stream",
     "text": [
      "/opt/conda/lib/python3.10/site-packages/sklearn/feature_selection/_univariate_selection.py:112: UserWarning: Features [33 34 35 51 58 59 60 61 62 63] are constant.\n",
      "  warnings.warn(\"Features %s are constant.\" % constant_features_idx, UserWarning)\n",
      "/opt/conda/lib/python3.10/site-packages/sklearn/feature_selection/_univariate_selection.py:113: RuntimeWarning: invalid value encountered in divide\n",
      "  f = msb / msw\n"
     ]
    }
   ],
   "source": [
    "k = 15  # Number of features to select\n",
    "selector = SelectKBest(score_func=f_classif, k=k)\n",
    "X_train_selected = selector.fit_transform(X_train, y_train)\n",
    "X_test_selected = selector.transform(X_test)"
   ]
  },
  {
   "cell_type": "markdown",
   "id": "1d6a5736",
   "metadata": {
    "id": "kmTvEdGAMD_X",
    "papermill": {
     "duration": 0.023551,
     "end_time": "2023-05-18T06:34:15.800898",
     "exception": false,
     "start_time": "2023-05-18T06:34:15.777347",
     "status": "completed"
    },
    "tags": []
   },
   "source": [
    "\n",
    "\n",
    "> **Selected features**\n",
    "\n"
   ]
  },
  {
   "cell_type": "code",
   "execution_count": 14,
   "id": "b464b3fc",
   "metadata": {
    "execution": {
     "iopub.execute_input": "2023-05-18T06:34:15.850467Z",
     "iopub.status.busy": "2023-05-18T06:34:15.850038Z",
     "iopub.status.idle": "2023-05-18T06:34:15.857347Z",
     "shell.execute_reply": "2023-05-18T06:34:15.856021Z"
    },
    "id": "TyJxWjJAotZC",
    "papermill": {
     "duration": 0.035463,
     "end_time": "2023-05-18T06:34:15.859767",
     "exception": false,
     "start_time": "2023-05-18T06:34:15.824304",
     "status": "completed"
    },
    "tags": []
   },
   "outputs": [
    {
     "data": {
      "text/plain": [
       "Index([' Destination Port', ' Protocol', 'Bwd Packet Length Max',\n",
       "       ' Bwd Packet Length Mean', ' Bwd Packet Length Std',\n",
       "       ' Min Packet Length', ' Max Packet Length', ' Packet Length Mean',\n",
       "       ' Packet Length Std', ' Packet Length Variance', ' URG Flag Count',\n",
       "       ' Average Packet Size', ' Avg Bwd Segment Size',\n",
       "       ' min_seg_size_forward', 'NumericalDestinationIP'],\n",
       "      dtype='object')"
      ]
     },
     "execution_count": 14,
     "metadata": {},
     "output_type": "execute_result"
    }
   ],
   "source": [
    "selected_feature_names = X.columns[selector.get_support()]\n",
    "selected_feature_names"
   ]
  },
  {
   "cell_type": "markdown",
   "id": "8b96516b",
   "metadata": {
    "id": "d7CPNfLLwl_T",
    "papermill": {
     "duration": 0.023811,
     "end_time": "2023-05-18T06:34:15.908385",
     "exception": false,
     "start_time": "2023-05-18T06:34:15.884574",
     "status": "completed"
    },
    "tags": []
   },
   "source": [
    "## **KNN**\n",
    "\n",
    "---"
   ]
  },
  {
   "cell_type": "markdown",
   "id": "ba4009c5",
   "metadata": {
    "id": "MhRYkT1zHNCx",
    "papermill": {
     "duration": 0.023815,
     "end_time": "2023-05-18T06:34:15.956940",
     "exception": false,
     "start_time": "2023-05-18T06:34:15.933125",
     "status": "completed"
    },
    "tags": []
   },
   "source": [
    "\n",
    "\n",
    "> **Model**\n"
   ]
  },
  {
   "cell_type": "code",
   "execution_count": 15,
   "id": "b1dd85e1",
   "metadata": {
    "execution": {
     "iopub.execute_input": "2023-05-18T06:34:16.009168Z",
     "iopub.status.busy": "2023-05-18T06:34:16.008235Z",
     "iopub.status.idle": "2023-05-18T06:34:17.283798Z",
     "shell.execute_reply": "2023-05-18T06:34:17.282465Z"
    },
    "id": "fScekK6oqJlv",
    "papermill": {
     "duration": 1.30425,
     "end_time": "2023-05-18T06:34:17.286556",
     "exception": false,
     "start_time": "2023-05-18T06:34:15.982306",
     "status": "completed"
    },
    "tags": []
   },
   "outputs": [
    {
     "name": "stdout",
     "output_type": "stream",
     "text": [
      "KNN took  1.267629861831665 seconds\n"
     ]
    }
   ],
   "source": [
    "from sklearn.neighbors import KNeighborsClassifier\n",
    "\n",
    "\n",
    "res1 = time.time()\n",
    "\n",
    "# Create a K-Nearest Neighbors classifier\n",
    "knn = KNeighborsClassifier()\n",
    "knn = knn.fit(X_train_selected , y_train)\n",
    "knn\n",
    "\n",
    "res2 = time.time()\n",
    "\n",
    "print('KNN took ',res2-res1,'seconds')"
   ]
  },
  {
   "cell_type": "markdown",
   "id": "7f641656",
   "metadata": {
    "id": "bjDeemkqHl4q",
    "papermill": {
     "duration": 0.024104,
     "end_time": "2023-05-18T06:34:17.335344",
     "exception": false,
     "start_time": "2023-05-18T06:34:17.311240",
     "status": "completed"
    },
    "tags": []
   },
   "source": [
    "> **Validation**"
   ]
  },
  {
   "cell_type": "code",
   "execution_count": 16,
   "id": "2fc09378",
   "metadata": {
    "execution": {
     "iopub.execute_input": "2023-05-18T06:34:17.387032Z",
     "iopub.status.busy": "2023-05-18T06:34:17.386473Z",
     "iopub.status.idle": "2023-05-18T06:35:36.063882Z",
     "shell.execute_reply": "2023-05-18T06:35:36.062607Z"
    },
    "id": "4hDQbsbBvqLg",
    "papermill": {
     "duration": 78.730326,
     "end_time": "2023-05-18T06:35:36.089501",
     "exception": false,
     "start_time": "2023-05-18T06:34:17.359175",
     "status": "completed"
    },
    "tags": []
   },
   "outputs": [
    {
     "name": "stdout",
     "output_type": "stream",
     "text": [
      "Fold 1 accuracy: 0.9999169297225453\n",
      "Fold 2 accuracy: 0.9997784792601208\n",
      "Fold 3 accuracy: 0.9998061693526057\n",
      "Fold 4 accuracy: 0.9999169274222579\n",
      "Fold 5 accuracy: 0.9997230914075264\n",
      "\n",
      "Mean accuracy: 0.9998283194330112\n"
     ]
    }
   ],
   "source": [
    "#validating with kfold method\n",
    "# Define the number of folds (K)\n",
    "k = 5\n",
    "\n",
    "# Create a K-Fold cross-validator\n",
    "kf = KFold(n_splits=k)\n",
    "\n",
    "# Perform K-fold cross-validation\n",
    "scores = cross_val_score(knn, X_train_selected, y_train, cv=kf)\n",
    "\n",
    "# Print the accuracy for each fold\n",
    "for fold_idx, score in enumerate(scores):\n",
    "    print(f\"Fold {fold_idx + 1} accuracy: {score}\")\n",
    "\n",
    "# Compute the mean accuracy and standard deviation across all folds\n",
    "mean_accuracy = np.mean(scores)\n",
    "\n",
    "print(f\"\\nMean accuracy: {mean_accuracy}\")"
   ]
  },
  {
   "cell_type": "markdown",
   "id": "c6c0de2d",
   "metadata": {
    "id": "W1ETdlUGHpKS",
    "papermill": {
     "duration": 0.023533,
     "end_time": "2023-05-18T06:35:36.136909",
     "exception": false,
     "start_time": "2023-05-18T06:35:36.113376",
     "status": "completed"
    },
    "tags": []
   },
   "source": [
    "> **Testing Model**"
   ]
  },
  {
   "cell_type": "code",
   "execution_count": 17,
   "id": "d488b594",
   "metadata": {
    "execution": {
     "iopub.execute_input": "2023-05-18T06:35:36.187245Z",
     "iopub.status.busy": "2023-05-18T06:35:36.186528Z",
     "iopub.status.idle": "2023-05-18T06:36:21.355597Z",
     "shell.execute_reply": "2023-05-18T06:36:21.354211Z"
    },
    "id": "qpWf488ovrAG",
    "papermill": {
     "duration": 45.220997,
     "end_time": "2023-05-18T06:36:21.381821",
     "exception": false,
     "start_time": "2023-05-18T06:35:36.160824",
     "status": "completed"
    },
    "tags": []
   },
   "outputs": [
    {
     "name": "stdout",
     "output_type": "stream",
     "text": [
      "Accuracy score= 0.99986709\n"
     ]
    }
   ],
   "source": [
    "#testing \n",
    "\n",
    "y_pred1 = knn.predict(X_test_selected)\n",
    "\n",
    "print('Accuracy score= {:.8f}'.format(knn.score(X_test_selected, y_test)))"
   ]
  },
  {
   "cell_type": "markdown",
   "id": "acd07e47",
   "metadata": {
    "id": "J2Orq0o5Hv-7",
    "papermill": {
     "duration": 0.02365,
     "end_time": "2023-05-18T06:36:21.429419",
     "exception": false,
     "start_time": "2023-05-18T06:36:21.405769",
     "status": "completed"
    },
    "tags": []
   },
   "source": [
    "> **Precision**"
   ]
  },
  {
   "cell_type": "code",
   "execution_count": 18,
   "id": "ab777000",
   "metadata": {
    "execution": {
     "iopub.execute_input": "2023-05-18T06:36:21.479057Z",
     "iopub.status.busy": "2023-05-18T06:36:21.478647Z",
     "iopub.status.idle": "2023-05-18T06:36:22.455860Z",
     "shell.execute_reply": "2023-05-18T06:36:22.454480Z"
    },
    "id": "lLyCqKvDwiAZ",
    "papermill": {
     "duration": 1.00506,
     "end_time": "2023-05-18T06:36:22.458208",
     "exception": false,
     "start_time": "2023-05-18T06:36:21.453148",
     "status": "completed"
    },
    "tags": []
   },
   "outputs": [
    {
     "name": "stdout",
     "output_type": "stream",
     "text": [
      "Precision score: 0.9998671016843568\n"
     ]
    }
   ],
   "source": [
    "# Calculate the precision score\n",
    "precision = precision_score(y_test, y_pred1, average='weighted')\n",
    "print(\"Precision score:\", precision)"
   ]
  },
  {
   "cell_type": "markdown",
   "id": "3ccffd07",
   "metadata": {
    "id": "q1rigQBJH0H6",
    "papermill": {
     "duration": 0.025397,
     "end_time": "2023-05-18T06:36:22.508158",
     "exception": false,
     "start_time": "2023-05-18T06:36:22.482761",
     "status": "completed"
    },
    "tags": []
   },
   "source": [
    "> **Recall**"
   ]
  },
  {
   "cell_type": "code",
   "execution_count": 19,
   "id": "f55a2fce",
   "metadata": {
    "execution": {
     "iopub.execute_input": "2023-05-18T06:36:22.558361Z",
     "iopub.status.busy": "2023-05-18T06:36:22.557922Z",
     "iopub.status.idle": "2023-05-18T06:36:23.549844Z",
     "shell.execute_reply": "2023-05-18T06:36:23.548594Z"
    },
    "id": "fSW-VxQatDSS",
    "papermill": {
     "duration": 1.020056,
     "end_time": "2023-05-18T06:36:23.552454",
     "exception": false,
     "start_time": "2023-05-18T06:36:22.532398",
     "status": "completed"
    },
    "tags": []
   },
   "outputs": [
    {
     "name": "stdout",
     "output_type": "stream",
     "text": [
      "Recall: 0.9999611257969212\n"
     ]
    }
   ],
   "source": [
    "# Calculate recall\n",
    "recall = recall_score(y_test , y_pred1, pos_label='DDoS')\n",
    "\n",
    "print(\"Recall:\", recall)"
   ]
  },
  {
   "cell_type": "markdown",
   "id": "9d099074",
   "metadata": {
    "id": "RdOdz0f0H2dj",
    "papermill": {
     "duration": 0.02377,
     "end_time": "2023-05-18T06:36:23.600636",
     "exception": false,
     "start_time": "2023-05-18T06:36:23.576866",
     "status": "completed"
    },
    "tags": []
   },
   "source": [
    ">**F1** **Score**"
   ]
  },
  {
   "cell_type": "code",
   "execution_count": 20,
   "id": "36260c02",
   "metadata": {
    "execution": {
     "iopub.execute_input": "2023-05-18T06:36:23.650635Z",
     "iopub.status.busy": "2023-05-18T06:36:23.650185Z",
     "iopub.status.idle": "2023-05-18T06:36:24.631744Z",
     "shell.execute_reply": "2023-05-18T06:36:24.630592Z"
    },
    "id": "VnbYoEtEtvjb",
    "papermill": {
     "duration": 1.009855,
     "end_time": "2023-05-18T06:36:24.634542",
     "exception": false,
     "start_time": "2023-05-18T06:36:23.624687",
     "status": "completed"
    },
    "tags": []
   },
   "outputs": [
    {
     "name": "stdout",
     "output_type": "stream",
     "text": [
      "F1 Score: 0.9998833864572806\n"
     ]
    }
   ],
   "source": [
    "# Calculate the F1 score\n",
    "f1 = f1_score(y_test, y_pred1, pos_label='DDoS')\n",
    "\n",
    "print(\"F1 Score:\", f1)"
   ]
  },
  {
   "cell_type": "markdown",
   "id": "bcb166b8",
   "metadata": {
    "id": "YaszFSPoH7o8",
    "papermill": {
     "duration": 0.024268,
     "end_time": "2023-05-18T06:36:24.682987",
     "exception": false,
     "start_time": "2023-05-18T06:36:24.658719",
     "status": "completed"
    },
    "tags": []
   },
   "source": [
    "\n",
    "> **Confusion Matrix**\n",
    "\n"
   ]
  },
  {
   "cell_type": "code",
   "execution_count": 21,
   "id": "16ff32aa",
   "metadata": {
    "execution": {
     "iopub.execute_input": "2023-05-18T06:36:24.734928Z",
     "iopub.status.busy": "2023-05-18T06:36:24.734494Z",
     "iopub.status.idle": "2023-05-18T06:36:25.221700Z",
     "shell.execute_reply": "2023-05-18T06:36:25.220304Z"
    },
    "id": "ea-PGv7duNii",
    "papermill": {
     "duration": 0.517033,
     "end_time": "2023-05-18T06:36:25.224894",
     "exception": false,
     "start_time": "2023-05-18T06:36:24.707861",
     "status": "completed"
    },
    "tags": []
   },
   "outputs": [
    {
     "name": "stdout",
     "output_type": "stream",
     "text": [
      "Confusion Matrix:\n",
      "[[19414     5]\n",
      " [    1 25723]]\n"
     ]
    }
   ],
   "source": [
    "# Generate the confusion matrix\n",
    "cm = confusion_matrix(y_test, y_pred1)\n",
    "\n",
    "# Print the confusion matrix\n",
    "print(\"Confusion Matrix:\")\n",
    "print(cm)"
   ]
  },
  {
   "cell_type": "markdown",
   "id": "757a9a6c",
   "metadata": {
    "id": "SGK8Sfdtfzb_",
    "papermill": {
     "duration": 0.02515,
     "end_time": "2023-05-18T06:36:25.276756",
     "exception": false,
     "start_time": "2023-05-18T06:36:25.251606",
     "status": "completed"
    },
    "tags": []
   },
   "source": [
    "## **Random Forest**"
   ]
  },
  {
   "cell_type": "markdown",
   "id": "bfe8ca7c",
   "metadata": {
    "id": "YU-V9lFBIV21",
    "papermill": {
     "duration": 0.025638,
     "end_time": "2023-05-18T06:36:25.327872",
     "exception": false,
     "start_time": "2023-05-18T06:36:25.302234",
     "status": "completed"
    },
    "tags": []
   },
   "source": [
    "\n",
    "\n",
    "> **Model** \n",
    "\n"
   ]
  },
  {
   "cell_type": "code",
   "execution_count": 22,
   "id": "272aefb4",
   "metadata": {
    "execution": {
     "iopub.execute_input": "2023-05-18T06:36:25.380794Z",
     "iopub.status.busy": "2023-05-18T06:36:25.379722Z",
     "iopub.status.idle": "2023-05-18T06:36:38.764970Z",
     "shell.execute_reply": "2023-05-18T06:36:38.763494Z"
    },
    "id": "QqPjUiABpFaX",
    "papermill": {
     "duration": 13.414571,
     "end_time": "2023-05-18T06:36:38.767672",
     "exception": false,
     "start_time": "2023-05-18T06:36:25.353101",
     "status": "completed"
    },
    "tags": []
   },
   "outputs": [
    {
     "name": "stdout",
     "output_type": "stream",
     "text": [
      "RandomForest  took  13.377989292144775 seconds\n"
     ]
    }
   ],
   "source": [
    "res1 = time.time()\n",
    "\n",
    "rf = RandomForestClassifier()\n",
    "rf.fit(X_train_selected , y_train)\n",
    "res2 = time.time()\n",
    "print('RandomForest  took ',res2-res1,'seconds')"
   ]
  },
  {
   "cell_type": "markdown",
   "id": "b747f104",
   "metadata": {
    "id": "pyzZH1g0IYwm",
    "papermill": {
     "duration": 0.024068,
     "end_time": "2023-05-18T06:36:38.816925",
     "exception": false,
     "start_time": "2023-05-18T06:36:38.792857",
     "status": "completed"
    },
    "tags": []
   },
   "source": [
    "\n",
    "\n",
    "> **Validation**\n",
    "\n"
   ]
  },
  {
   "cell_type": "code",
   "execution_count": 23,
   "id": "7d6b232c",
   "metadata": {
    "execution": {
     "iopub.execute_input": "2023-05-18T06:36:38.868427Z",
     "iopub.status.busy": "2023-05-18T06:36:38.868020Z",
     "iopub.status.idle": "2023-05-18T06:37:39.481963Z",
     "shell.execute_reply": "2023-05-18T06:37:39.480667Z"
    },
    "id": "QW3TJW6qv9AK",
    "papermill": {
     "duration": 60.666713,
     "end_time": "2023-05-18T06:37:39.508450",
     "exception": false,
     "start_time": "2023-05-18T06:36:38.841737",
     "status": "completed"
    },
    "tags": []
   },
   "outputs": [
    {
     "name": "stdout",
     "output_type": "stream",
     "text": [
      "Fold 1 accuracy: 0.9999446198150301\n",
      "Fold 2 accuracy: 0.9999169297225453\n",
      "Fold 3 accuracy: 1.0\n",
      "Fold 4 accuracy: 0.9999169274222579\n",
      "Fold 5 accuracy: 0.9999723091407526\n",
      "\n",
      "Mean accuracy: 0.9999501572201173\n"
     ]
    }
   ],
   "source": [
    "#validating with kfold method\n",
    "# Define the number of folds (K)\n",
    "k = 5\n",
    "\n",
    "# Create a K-Fold cross-validator\n",
    "kf = KFold(n_splits=k)\n",
    "\n",
    "# Perform K-fold cross-validation\n",
    "scores = cross_val_score(rf, X_train_selected, y_train, cv=kf)\n",
    "\n",
    "# Print the accuracy for each fold\n",
    "for fold_idx, score in enumerate(scores):\n",
    "    print(f\"Fold {fold_idx + 1} accuracy: {score}\")\n",
    "\n",
    "# Compute the mean accuracy and standard deviation across all folds\n",
    "mean_accuracy = np.mean(scores)\n",
    "\n",
    "print(f\"\\nMean accuracy: {mean_accuracy}\")"
   ]
  },
  {
   "cell_type": "markdown",
   "id": "2954fd92",
   "metadata": {
    "id": "evWOdY9_IsqU",
    "papermill": {
     "duration": 0.02411,
     "end_time": "2023-05-18T06:37:39.557417",
     "exception": false,
     "start_time": "2023-05-18T06:37:39.533307",
     "status": "completed"
    },
    "tags": []
   },
   "source": [
    "\n",
    "\n",
    "> **Testing** **Model**\n",
    "\n"
   ]
  },
  {
   "cell_type": "code",
   "execution_count": 24,
   "id": "8bef36a9",
   "metadata": {
    "execution": {
     "iopub.execute_input": "2023-05-18T06:37:39.609236Z",
     "iopub.status.busy": "2023-05-18T06:37:39.608009Z",
     "iopub.status.idle": "2023-05-18T06:37:40.221208Z",
     "shell.execute_reply": "2023-05-18T06:37:40.219609Z"
    },
    "id": "tvWvoA80wI9p",
    "papermill": {
     "duration": 0.641781,
     "end_time": "2023-05-18T06:37:40.223823",
     "exception": false,
     "start_time": "2023-05-18T06:37:39.582042",
     "status": "completed"
    },
    "tags": []
   },
   "outputs": [
    {
     "name": "stdout",
     "output_type": "stream",
     "text": [
      "Accuracy score: 1.0\n"
     ]
    }
   ],
   "source": [
    "y_pred1 = rf.predict(X_test_selected)\n",
    "\n",
    "#Calculate the accuracy\n",
    "accuracy = accuracy_score(y_test, y_pred1)\n",
    "print(\"Accuracy score:\", accuracy)\n"
   ]
  },
  {
   "cell_type": "markdown",
   "id": "e0327ea1",
   "metadata": {
    "id": "Io4HbIa0I01M",
    "papermill": {
     "duration": 0.025028,
     "end_time": "2023-05-18T06:37:40.273280",
     "exception": false,
     "start_time": "2023-05-18T06:37:40.248252",
     "status": "completed"
    },
    "tags": []
   },
   "source": [
    "\n",
    "\n",
    "> **Precision**\n",
    "\n"
   ]
  },
  {
   "cell_type": "code",
   "execution_count": 25,
   "id": "37fba968",
   "metadata": {
    "execution": {
     "iopub.execute_input": "2023-05-18T06:37:40.326524Z",
     "iopub.status.busy": "2023-05-18T06:37:40.325615Z",
     "iopub.status.idle": "2023-05-18T06:37:41.299006Z",
     "shell.execute_reply": "2023-05-18T06:37:41.297487Z"
    },
    "id": "jNOibx73wSw-",
    "papermill": {
     "duration": 1.002184,
     "end_time": "2023-05-18T06:37:41.301842",
     "exception": false,
     "start_time": "2023-05-18T06:37:40.299658",
     "status": "completed"
    },
    "tags": []
   },
   "outputs": [
    {
     "name": "stdout",
     "output_type": "stream",
     "text": [
      "Precision score: 1.0\n"
     ]
    }
   ],
   "source": [
    "# Calculate the precision score\n",
    "precision = precision_score(y_test, y_pred1, average='weighted')\n",
    "print(\"Precision score:\", precision)\n"
   ]
  },
  {
   "cell_type": "markdown",
   "id": "4e25e580",
   "metadata": {
    "id": "JeTDW3l_I6TU",
    "papermill": {
     "duration": 0.024906,
     "end_time": "2023-05-18T06:37:41.352862",
     "exception": false,
     "start_time": "2023-05-18T06:37:41.327956",
     "status": "completed"
    },
    "tags": []
   },
   "source": [
    "\n",
    "\n",
    "> **Recall**\n",
    "\n"
   ]
  },
  {
   "cell_type": "code",
   "execution_count": 26,
   "id": "f06cdc5f",
   "metadata": {
    "execution": {
     "iopub.execute_input": "2023-05-18T06:37:41.409143Z",
     "iopub.status.busy": "2023-05-18T06:37:41.408648Z",
     "iopub.status.idle": "2023-05-18T06:37:42.398668Z",
     "shell.execute_reply": "2023-05-18T06:37:42.397322Z"
    },
    "id": "htR4KgVvwawc",
    "papermill": {
     "duration": 1.022352,
     "end_time": "2023-05-18T06:37:42.402103",
     "exception": false,
     "start_time": "2023-05-18T06:37:41.379751",
     "status": "completed"
    },
    "tags": []
   },
   "outputs": [
    {
     "name": "stdout",
     "output_type": "stream",
     "text": [
      "Recall: 1.0\n"
     ]
    }
   ],
   "source": [
    "# Calculate recall\n",
    "recall = recall_score(y_test , y_pred1, pos_label='DDoS')\n",
    "\n",
    "print(\"Recall:\", recall)"
   ]
  },
  {
   "cell_type": "markdown",
   "id": "fe34be67",
   "metadata": {
    "id": "FRji-CxbI_cM",
    "papermill": {
     "duration": 0.024728,
     "end_time": "2023-05-18T06:37:42.452141",
     "exception": false,
     "start_time": "2023-05-18T06:37:42.427413",
     "status": "completed"
    },
    "tags": []
   },
   "source": [
    "\n",
    "\n",
    "> **F1** **Score**\n",
    "\n"
   ]
  },
  {
   "cell_type": "code",
   "execution_count": 27,
   "id": "5c9a2dbe",
   "metadata": {
    "execution": {
     "iopub.execute_input": "2023-05-18T06:37:42.505026Z",
     "iopub.status.busy": "2023-05-18T06:37:42.504640Z",
     "iopub.status.idle": "2023-05-18T06:37:43.509473Z",
     "shell.execute_reply": "2023-05-18T06:37:43.508213Z"
    },
    "id": "yqr3nCwiwfT-",
    "papermill": {
     "duration": 1.033797,
     "end_time": "2023-05-18T06:37:43.512151",
     "exception": false,
     "start_time": "2023-05-18T06:37:42.478354",
     "status": "completed"
    },
    "tags": []
   },
   "outputs": [
    {
     "name": "stdout",
     "output_type": "stream",
     "text": [
      "F1 Score:  1.0\n"
     ]
    }
   ],
   "source": [
    "# Calculate the F1 score\n",
    "f1 = f1_score(y_test, y_pred1, pos_label='DDoS')\n",
    "\n",
    "print(\"F1 Score: \", f1)"
   ]
  },
  {
   "cell_type": "markdown",
   "id": "10dc6570",
   "metadata": {
    "id": "GWgRz-UIJERE",
    "papermill": {
     "duration": 0.030473,
     "end_time": "2023-05-18T06:37:43.568026",
     "exception": false,
     "start_time": "2023-05-18T06:37:43.537553",
     "status": "completed"
    },
    "tags": []
   },
   "source": [
    "\n",
    "\n",
    "> **Confusion Matrix**\n",
    "\n"
   ]
  },
  {
   "cell_type": "code",
   "execution_count": 28,
   "id": "2c57245c",
   "metadata": {
    "execution": {
     "iopub.execute_input": "2023-05-18T06:37:43.620831Z",
     "iopub.status.busy": "2023-05-18T06:37:43.620020Z",
     "iopub.status.idle": "2023-05-18T06:37:44.120836Z",
     "shell.execute_reply": "2023-05-18T06:37:44.119310Z"
    },
    "id": "JkUhHsU2wYO4",
    "papermill": {
     "duration": 0.530516,
     "end_time": "2023-05-18T06:37:44.123709",
     "exception": false,
     "start_time": "2023-05-18T06:37:43.593193",
     "status": "completed"
    },
    "tags": []
   },
   "outputs": [
    {
     "name": "stdout",
     "output_type": "stream",
     "text": [
      "Confusion Matrix:\n",
      "[[19419     0]\n",
      " [    0 25724]]\n"
     ]
    }
   ],
   "source": [
    "# Generate the confusion matrix\n",
    "cm = confusion_matrix(y_test, y_pred1)\n",
    "\n",
    "# Print the confusion matrix\n",
    "print(\"Confusion Matrix:\")\n",
    "print(cm)"
   ]
  },
  {
   "cell_type": "markdown",
   "id": "2c2387e6",
   "metadata": {
    "id": "iWdNSvgjWjsO",
    "papermill": {
     "duration": 0.024541,
     "end_time": "2023-05-18T06:37:44.173407",
     "exception": false,
     "start_time": "2023-05-18T06:37:44.148866",
     "status": "completed"
    },
    "tags": []
   },
   "source": [
    "## **NB**"
   ]
  },
  {
   "cell_type": "markdown",
   "id": "c05d1567",
   "metadata": {
    "id": "DQPRHim3WyeW",
    "papermill": {
     "duration": 0.024698,
     "end_time": "2023-05-18T06:37:44.223174",
     "exception": false,
     "start_time": "2023-05-18T06:37:44.198476",
     "status": "completed"
    },
    "tags": []
   },
   "source": [
    "\n",
    "\n",
    "> **Model** \n",
    "\n"
   ]
  },
  {
   "cell_type": "code",
   "execution_count": 29,
   "id": "4838da4f",
   "metadata": {
    "execution": {
     "iopub.execute_input": "2023-05-18T06:37:44.276829Z",
     "iopub.status.busy": "2023-05-18T06:37:44.275911Z",
     "iopub.status.idle": "2023-05-18T06:37:44.973752Z",
     "shell.execute_reply": "2023-05-18T06:37:44.972412Z"
    },
    "id": "ufmeq56hWyeX",
    "papermill": {
     "duration": 0.72855,
     "end_time": "2023-05-18T06:37:44.976863",
     "exception": false,
     "start_time": "2023-05-18T06:37:44.248313",
     "status": "completed"
    },
    "tags": []
   },
   "outputs": [
    {
     "name": "stdout",
     "output_type": "stream",
     "text": [
      "GNB  took  0.6791625022888184 seconds\n"
     ]
    }
   ],
   "source": [
    "from sklearn.naive_bayes import GaussianNB\n",
    "\n",
    "res1 = time.time()\n",
    "\n",
    "# Create a Gaussian Naive Bayes classifier\n",
    "gnb = GaussianNB()\n",
    "\n",
    "gnb.fit(X_train_selected , y_train)\n",
    "\n",
    "res2 = time.time()\n",
    "\n",
    "print('GNB  took ',res2-res1,'seconds')"
   ]
  },
  {
   "cell_type": "markdown",
   "id": "7ca40653",
   "metadata": {
    "id": "n4RRpee_WyeX",
    "papermill": {
     "duration": 0.024934,
     "end_time": "2023-05-18T06:37:45.027875",
     "exception": false,
     "start_time": "2023-05-18T06:37:45.002941",
     "status": "completed"
    },
    "tags": []
   },
   "source": [
    "\n",
    "\n",
    "> **Validation**\n",
    "\n"
   ]
  },
  {
   "cell_type": "code",
   "execution_count": 30,
   "id": "9fbc33ed",
   "metadata": {
    "execution": {
     "iopub.execute_input": "2023-05-18T06:37:45.080767Z",
     "iopub.status.busy": "2023-05-18T06:37:45.080053Z",
     "iopub.status.idle": "2023-05-18T06:37:48.785197Z",
     "shell.execute_reply": "2023-05-18T06:37:48.783573Z"
    },
    "id": "EP3buNb7WyeX",
    "papermill": {
     "duration": 3.734987,
     "end_time": "2023-05-18T06:37:48.788193",
     "exception": false,
     "start_time": "2023-05-18T06:37:45.053206",
     "status": "completed"
    },
    "tags": []
   },
   "outputs": [
    {
     "name": "stdout",
     "output_type": "stream",
     "text": [
      "Fold 1 accuracy: 0.808218419449521\n",
      "Fold 2 accuracy: 0.8068892950102453\n",
      "Fold 3 accuracy: 0.8086060807443097\n",
      "Fold 4 accuracy: 0.8079085094010467\n",
      "Fold 5 accuracy: 0.8059978401129787\n",
      "\n",
      "Mean accuracy: 0.8075240289436204\n"
     ]
    }
   ],
   "source": [
    "#validating with kfold method\n",
    "# Define the number of folds (K)\n",
    "k = 5\n",
    "\n",
    "# Create a K-Fold cross-validator\n",
    "kf = KFold(n_splits=k)\n",
    "\n",
    "# Perform K-fold cross-validation\n",
    "scores = cross_val_score(gnb, X_train_selected, y_train, cv=kf)\n",
    "\n",
    "# Print the accuracy for each fold\n",
    "for fold_idx, score in enumerate(scores):\n",
    "    print(f\"Fold {fold_idx + 1} accuracy: {score}\")\n",
    "\n",
    "# Compute the mean accuracy and standard deviation across all folds\n",
    "mean_accuracy = np.mean(scores)\n",
    "\n",
    "print(f\"\\nMean accuracy: {mean_accuracy}\")"
   ]
  },
  {
   "cell_type": "markdown",
   "id": "4a5c0966",
   "metadata": {
    "id": "Oiow55ioWyeY",
    "papermill": {
     "duration": 0.024801,
     "end_time": "2023-05-18T06:37:48.839023",
     "exception": false,
     "start_time": "2023-05-18T06:37:48.814222",
     "status": "completed"
    },
    "tags": []
   },
   "source": [
    "\n",
    "\n",
    "> **Testing** **Model**\n",
    "\n"
   ]
  },
  {
   "cell_type": "code",
   "execution_count": 31,
   "id": "0e90e6aa",
   "metadata": {
    "execution": {
     "iopub.execute_input": "2023-05-18T06:37:48.892983Z",
     "iopub.status.busy": "2023-05-18T06:37:48.892361Z",
     "iopub.status.idle": "2023-05-18T06:37:49.144095Z",
     "shell.execute_reply": "2023-05-18T06:37:49.142365Z"
    },
    "id": "izEUf8-RWyeY",
    "papermill": {
     "duration": 0.282,
     "end_time": "2023-05-18T06:37:49.146735",
     "exception": false,
     "start_time": "2023-05-18T06:37:48.864735",
     "status": "completed"
    },
    "tags": []
   },
   "outputs": [
    {
     "name": "stdout",
     "output_type": "stream",
     "text": [
      "Accuracy score: 0.8099816139822342\n"
     ]
    }
   ],
   "source": [
    "y_pred1 = gnb.predict(X_test_selected)\n",
    "\n",
    "#Calculate the accuracy\n",
    "accuracy = accuracy_score(y_test, y_pred1)\n",
    "print(\"Accuracy score:\", accuracy)\n"
   ]
  },
  {
   "cell_type": "markdown",
   "id": "85a7aa77",
   "metadata": {
    "id": "SbfjIR_NWyeY",
    "papermill": {
     "duration": 0.024957,
     "end_time": "2023-05-18T06:37:49.197375",
     "exception": false,
     "start_time": "2023-05-18T06:37:49.172418",
     "status": "completed"
    },
    "tags": []
   },
   "source": [
    "\n",
    "\n",
    "> **Precision**\n",
    "\n"
   ]
  },
  {
   "cell_type": "code",
   "execution_count": 32,
   "id": "0e613e4a",
   "metadata": {
    "execution": {
     "iopub.execute_input": "2023-05-18T06:37:49.249787Z",
     "iopub.status.busy": "2023-05-18T06:37:49.249329Z",
     "iopub.status.idle": "2023-05-18T06:37:50.058609Z",
     "shell.execute_reply": "2023-05-18T06:37:50.057219Z"
    },
    "id": "hO8dDLruWyeZ",
    "papermill": {
     "duration": 0.838561,
     "end_time": "2023-05-18T06:37:50.061219",
     "exception": false,
     "start_time": "2023-05-18T06:37:49.222658",
     "status": "completed"
    },
    "tags": []
   },
   "outputs": [
    {
     "name": "stdout",
     "output_type": "stream",
     "text": [
      "Precision score: 0.857500059415748\n"
     ]
    }
   ],
   "source": [
    "# Calculate the precision score\n",
    "precision = precision_score(y_test, y_pred1, average='weighted')\n",
    "print(\"Precision score:\", precision)\n"
   ]
  },
  {
   "cell_type": "markdown",
   "id": "750d8a63",
   "metadata": {
    "id": "99Fk2jUUWyeZ",
    "papermill": {
     "duration": 0.025091,
     "end_time": "2023-05-18T06:37:50.112810",
     "exception": false,
     "start_time": "2023-05-18T06:37:50.087719",
     "status": "completed"
    },
    "tags": []
   },
   "source": [
    "\n",
    "\n",
    "> **Recall**\n",
    "\n"
   ]
  },
  {
   "cell_type": "code",
   "execution_count": 33,
   "id": "23109511",
   "metadata": {
    "execution": {
     "iopub.execute_input": "2023-05-18T06:37:50.165232Z",
     "iopub.status.busy": "2023-05-18T06:37:50.164847Z",
     "iopub.status.idle": "2023-05-18T06:37:50.993167Z",
     "shell.execute_reply": "2023-05-18T06:37:50.991813Z"
    },
    "id": "nBG43-7OWyeZ",
    "papermill": {
     "duration": 0.857593,
     "end_time": "2023-05-18T06:37:50.995585",
     "exception": false,
     "start_time": "2023-05-18T06:37:50.137992",
     "status": "completed"
    },
    "tags": []
   },
   "outputs": [
    {
     "name": "stdout",
     "output_type": "stream",
     "text": [
      "Recall: 1.0\n"
     ]
    }
   ],
   "source": [
    "# Calculate recall\n",
    "recall = recall_score(y_test , y_pred1, pos_label='DDoS')\n",
    "\n",
    "print(\"Recall:\", recall)"
   ]
  },
  {
   "cell_type": "markdown",
   "id": "757c79d1",
   "metadata": {
    "id": "nKrYlAgRWyeZ",
    "papermill": {
     "duration": 0.025446,
     "end_time": "2023-05-18T06:37:51.046301",
     "exception": false,
     "start_time": "2023-05-18T06:37:51.020855",
     "status": "completed"
    },
    "tags": []
   },
   "source": [
    "\n",
    "\n",
    "> **F1** **Score**\n",
    "\n"
   ]
  },
  {
   "cell_type": "code",
   "execution_count": 34,
   "id": "455bceb7",
   "metadata": {
    "execution": {
     "iopub.execute_input": "2023-05-18T06:37:51.099267Z",
     "iopub.status.busy": "2023-05-18T06:37:51.098494Z",
     "iopub.status.idle": "2023-05-18T06:37:51.916580Z",
     "shell.execute_reply": "2023-05-18T06:37:51.915051Z"
    },
    "id": "dyWr7dh0Wyea",
    "papermill": {
     "duration": 0.847991,
     "end_time": "2023-05-18T06:37:51.919560",
     "exception": false,
     "start_time": "2023-05-18T06:37:51.071569",
     "status": "completed"
    },
    "tags": []
   },
   "outputs": [
    {
     "name": "stdout",
     "output_type": "stream",
     "text": [
      "F1 Score:  0.8570952587212207\n"
     ]
    }
   ],
   "source": [
    "# Calculate the F1 score\n",
    "f1 = f1_score(y_test, y_pred1, pos_label='DDoS')\n",
    "\n",
    "print(\"F1 Score: \", f1)"
   ]
  },
  {
   "cell_type": "markdown",
   "id": "95245697",
   "metadata": {
    "id": "IRw4RZJmWyea",
    "papermill": {
     "duration": 0.026318,
     "end_time": "2023-05-18T06:37:51.972705",
     "exception": false,
     "start_time": "2023-05-18T06:37:51.946387",
     "status": "completed"
    },
    "tags": []
   },
   "source": [
    "\n",
    "\n",
    "> **Confusion Matrix**\n",
    "\n"
   ]
  },
  {
   "cell_type": "code",
   "execution_count": 35,
   "id": "630314bf",
   "metadata": {
    "execution": {
     "iopub.execute_input": "2023-05-18T06:37:52.027050Z",
     "iopub.status.busy": "2023-05-18T06:37:52.026656Z",
     "iopub.status.idle": "2023-05-18T06:37:52.447996Z",
     "shell.execute_reply": "2023-05-18T06:37:52.446565Z"
    },
    "id": "bcl6mYksWyea",
    "papermill": {
     "duration": 0.451203,
     "end_time": "2023-05-18T06:37:52.450581",
     "exception": false,
     "start_time": "2023-05-18T06:37:51.999378",
     "status": "completed"
    },
    "tags": []
   },
   "outputs": [
    {
     "name": "stdout",
     "output_type": "stream",
     "text": [
      "Confusion Matrix:\n",
      "[[10841  8578]\n",
      " [    0 25724]]\n"
     ]
    }
   ],
   "source": [
    "# Generate the confusion matrix\n",
    "cm = confusion_matrix(y_test, y_pred1)\n",
    "\n",
    "# Print the confusion matrix\n",
    "print(\"Confusion Matrix:\")\n",
    "print(cm)"
   ]
  },
  {
   "cell_type": "markdown",
   "id": "8c30a6b1",
   "metadata": {
    "id": "uLH5ODvjNvu5",
    "papermill": {
     "duration": 0.025158,
     "end_time": "2023-05-18T06:37:52.501309",
     "exception": false,
     "start_time": "2023-05-18T06:37:52.476151",
     "status": "completed"
    },
    "tags": []
   },
   "source": [
    "## **SVM**"
   ]
  },
  {
   "cell_type": "markdown",
   "id": "85c963f2",
   "metadata": {
    "id": "yUuOayxcOwGz",
    "papermill": {
     "duration": 0.025224,
     "end_time": "2023-05-18T06:37:52.552838",
     "exception": false,
     "start_time": "2023-05-18T06:37:52.527614",
     "status": "completed"
    },
    "tags": []
   },
   "source": [
    "\n",
    "\n",
    "> **Model** \n",
    "\n"
   ]
  },
  {
   "cell_type": "code",
   "execution_count": 36,
   "id": "b2cb5962",
   "metadata": {
    "execution": {
     "iopub.execute_input": "2023-05-18T06:37:52.607155Z",
     "iopub.status.busy": "2023-05-18T06:37:52.606241Z",
     "iopub.status.idle": "2023-05-18T06:37:52.610912Z",
     "shell.execute_reply": "2023-05-18T06:37:52.609827Z"
    },
    "id": "O4732i_xOwGz",
    "papermill": {
     "duration": 0.034247,
     "end_time": "2023-05-18T06:37:52.613226",
     "exception": false,
     "start_time": "2023-05-18T06:37:52.578979",
     "status": "completed"
    },
    "tags": []
   },
   "outputs": [],
   "source": [
    "# from sklearn import svm\n",
    "\n",
    "# res1 = time.time()\n",
    "\n",
    "# # Create an SVM classifier\n",
    "# clf = svm.SVC(kernel='poly', degree=3, gamma='scale')\n",
    "\n",
    "# clf.fit(X_train_selected , y_train)\n",
    "\n",
    "# res2 = time.time()\n",
    "\n",
    "# print('SVM  took ',res2-res1,'seconds')"
   ]
  },
  {
   "cell_type": "markdown",
   "id": "df0a0527",
   "metadata": {
    "id": "VbxnmWrrOwG0",
    "papermill": {
     "duration": 0.025313,
     "end_time": "2023-05-18T06:37:52.664298",
     "exception": false,
     "start_time": "2023-05-18T06:37:52.638985",
     "status": "completed"
    },
    "tags": []
   },
   "source": [
    "\n",
    "\n",
    "> **Validation**\n",
    "\n"
   ]
  },
  {
   "cell_type": "code",
   "execution_count": 37,
   "id": "b27e7c71",
   "metadata": {
    "execution": {
     "iopub.execute_input": "2023-05-18T06:37:52.717831Z",
     "iopub.status.busy": "2023-05-18T06:37:52.717095Z",
     "iopub.status.idle": "2023-05-18T06:37:52.721578Z",
     "shell.execute_reply": "2023-05-18T06:37:52.720743Z"
    },
    "id": "FXTZAIYCOwG0",
    "papermill": {
     "duration": 0.033897,
     "end_time": "2023-05-18T06:37:52.723851",
     "exception": false,
     "start_time": "2023-05-18T06:37:52.689954",
     "status": "completed"
    },
    "tags": []
   },
   "outputs": [],
   "source": [
    "# #validating with kfold method\n",
    "# # Define the number of folds (K)\n",
    "# k = 5\n",
    "\n",
    "# # Create a K-Fold cross-validator\n",
    "# kf = KFold(n_splits=k)\n",
    "\n",
    "# # Perform K-fold cross-validation\n",
    "# scores = cross_val_score(clf, X_train_selected, y_train, cv=kf)\n",
    "\n",
    "# # Print the accuracy for each fold\n",
    "# for fold_idx, score in enumerate(scores):\n",
    "#     print(f\"Fold {fold_idx + 1} accuracy: {score}\")\n",
    "\n",
    "# # Compute the mean accuracy and standard deviation across all folds\n",
    "# mean_accuracy = np.mean(scores)\n",
    "\n",
    "# print(f\"\\nMean accuracy: {mean_accuracy}\")"
   ]
  },
  {
   "cell_type": "markdown",
   "id": "572e0667",
   "metadata": {
    "id": "69UVkRHeOwG0",
    "papermill": {
     "duration": 0.025312,
     "end_time": "2023-05-18T06:37:52.774723",
     "exception": false,
     "start_time": "2023-05-18T06:37:52.749411",
     "status": "completed"
    },
    "tags": []
   },
   "source": [
    "\n",
    "\n",
    "> **Testing** **Model**\n",
    "\n"
   ]
  },
  {
   "cell_type": "code",
   "execution_count": 38,
   "id": "75f8ac74",
   "metadata": {
    "execution": {
     "iopub.execute_input": "2023-05-18T06:37:52.828232Z",
     "iopub.status.busy": "2023-05-18T06:37:52.827499Z",
     "iopub.status.idle": "2023-05-18T06:37:52.832404Z",
     "shell.execute_reply": "2023-05-18T06:37:52.831315Z"
    },
    "id": "8Oy6mZISOwG0",
    "papermill": {
     "duration": 0.034838,
     "end_time": "2023-05-18T06:37:52.835175",
     "exception": false,
     "start_time": "2023-05-18T06:37:52.800337",
     "status": "completed"
    },
    "tags": []
   },
   "outputs": [],
   "source": [
    "# y_pred1 = clf.predict(X_test_selected)\n",
    "\n",
    "# # Calculate the accuracy\n",
    "# accuracy = accuracy_score(y_test, y_pred1)\n",
    "# print(\"Accuracy score:\", accuracy)\n"
   ]
  },
  {
   "cell_type": "markdown",
   "id": "e0c829cc",
   "metadata": {
    "id": "X-ir-S38OwG0",
    "papermill": {
     "duration": 0.025927,
     "end_time": "2023-05-18T06:37:52.886757",
     "exception": false,
     "start_time": "2023-05-18T06:37:52.860830",
     "status": "completed"
    },
    "tags": []
   },
   "source": [
    "\n",
    "\n",
    "> **Precision**\n",
    "\n"
   ]
  },
  {
   "cell_type": "code",
   "execution_count": 39,
   "id": "5f6b2938",
   "metadata": {
    "execution": {
     "iopub.execute_input": "2023-05-18T06:37:52.939996Z",
     "iopub.status.busy": "2023-05-18T06:37:52.939578Z",
     "iopub.status.idle": "2023-05-18T06:37:52.944382Z",
     "shell.execute_reply": "2023-05-18T06:37:52.943167Z"
    },
    "id": "n87XgzPsOwG0",
    "papermill": {
     "duration": 0.034383,
     "end_time": "2023-05-18T06:37:52.946882",
     "exception": false,
     "start_time": "2023-05-18T06:37:52.912499",
     "status": "completed"
    },
    "tags": []
   },
   "outputs": [],
   "source": [
    "# # Calculate the precision score\n",
    "# precision = precision_score(y_test, y_pred1, average='weighted')\n",
    "# print(\"Precision score:\", precision)\n"
   ]
  },
  {
   "cell_type": "markdown",
   "id": "2ea99539",
   "metadata": {
    "id": "Ae6KjFiZOwG0",
    "papermill": {
     "duration": 0.025501,
     "end_time": "2023-05-18T06:37:52.998216",
     "exception": false,
     "start_time": "2023-05-18T06:37:52.972715",
     "status": "completed"
    },
    "tags": []
   },
   "source": [
    "\n",
    "\n",
    "> **Recall**\n",
    "\n"
   ]
  },
  {
   "cell_type": "code",
   "execution_count": 40,
   "id": "7e1893e4",
   "metadata": {
    "execution": {
     "iopub.execute_input": "2023-05-18T06:37:53.051377Z",
     "iopub.status.busy": "2023-05-18T06:37:53.050976Z",
     "iopub.status.idle": "2023-05-18T06:37:53.056269Z",
     "shell.execute_reply": "2023-05-18T06:37:53.054930Z"
    },
    "id": "GoENMSeAOwG1",
    "papermill": {
     "duration": 0.034641,
     "end_time": "2023-05-18T06:37:53.058619",
     "exception": false,
     "start_time": "2023-05-18T06:37:53.023978",
     "status": "completed"
    },
    "tags": []
   },
   "outputs": [],
   "source": [
    "# # Calculate recall\n",
    "# recall = recall_score(y_test , y_pred1, pos_label='DDoS')\n",
    "\n",
    "# print(\"Recall:\", recall)"
   ]
  },
  {
   "cell_type": "markdown",
   "id": "2c03b358",
   "metadata": {
    "id": "9lPKTPe0OwG1",
    "papermill": {
     "duration": 0.025487,
     "end_time": "2023-05-18T06:37:53.110125",
     "exception": false,
     "start_time": "2023-05-18T06:37:53.084638",
     "status": "completed"
    },
    "tags": []
   },
   "source": [
    "\n",
    "\n",
    "> **F1** **Score**\n",
    "\n"
   ]
  },
  {
   "cell_type": "code",
   "execution_count": 41,
   "id": "bb085f09",
   "metadata": {
    "execution": {
     "iopub.execute_input": "2023-05-18T06:37:53.164275Z",
     "iopub.status.busy": "2023-05-18T06:37:53.163836Z",
     "iopub.status.idle": "2023-05-18T06:37:53.168901Z",
     "shell.execute_reply": "2023-05-18T06:37:53.167690Z"
    },
    "id": "5HZCcBXmOwG1",
    "papermill": {
     "duration": 0.03513,
     "end_time": "2023-05-18T06:37:53.171239",
     "exception": false,
     "start_time": "2023-05-18T06:37:53.136109",
     "status": "completed"
    },
    "tags": []
   },
   "outputs": [],
   "source": [
    "# # Calculate the F1 score\n",
    "# f1 = f1_score(y_test, y_pred1, pos_label='DDoS')\n",
    "\n",
    "# print(\"F1 Score: \", f1)"
   ]
  },
  {
   "cell_type": "markdown",
   "id": "52078c32",
   "metadata": {
    "id": "Hw4BQpkxOwG1",
    "papermill": {
     "duration": 0.026359,
     "end_time": "2023-05-18T06:37:53.223636",
     "exception": false,
     "start_time": "2023-05-18T06:37:53.197277",
     "status": "completed"
    },
    "tags": []
   },
   "source": [
    "\n",
    "\n",
    "> **Confusion Matrix**\n",
    "\n"
   ]
  },
  {
   "cell_type": "code",
   "execution_count": 42,
   "id": "77d491f0",
   "metadata": {
    "execution": {
     "iopub.execute_input": "2023-05-18T06:37:53.279277Z",
     "iopub.status.busy": "2023-05-18T06:37:53.278773Z",
     "iopub.status.idle": "2023-05-18T06:37:53.283256Z",
     "shell.execute_reply": "2023-05-18T06:37:53.282452Z"
    },
    "id": "PITZwq_DOwG1",
    "papermill": {
     "duration": 0.034579,
     "end_time": "2023-05-18T06:37:53.285429",
     "exception": false,
     "start_time": "2023-05-18T06:37:53.250850",
     "status": "completed"
    },
    "tags": []
   },
   "outputs": [],
   "source": [
    "# # Generate the confusion matrix\n",
    "# cm = confusion_matrix(y_test, y_pred1)\n",
    "\n",
    "# # Print the confusion matrix\n",
    "# print(\"Confusion Matrix:\")\n",
    "# print(cm)"
   ]
  },
  {
   "cell_type": "markdown",
   "id": "8bc52364",
   "metadata": {
    "papermill": {
     "duration": 0.025749,
     "end_time": "2023-05-18T06:37:53.338102",
     "exception": false,
     "start_time": "2023-05-18T06:37:53.312353",
     "status": "completed"
    },
    "tags": []
   },
   "source": [
    "**Ensemble Model**"
   ]
  },
  {
   "cell_type": "code",
   "execution_count": 43,
   "id": "a10a90f3",
   "metadata": {
    "execution": {
     "iopub.execute_input": "2023-05-18T06:37:53.393029Z",
     "iopub.status.busy": "2023-05-18T06:37:53.392602Z",
     "iopub.status.idle": "2023-05-18T06:38:34.267404Z",
     "shell.execute_reply": "2023-05-18T06:38:34.266496Z"
    },
    "papermill": {
     "duration": 40.931563,
     "end_time": "2023-05-18T06:38:34.295978",
     "exception": false,
     "start_time": "2023-05-18T06:37:53.364415",
     "status": "completed"
    },
    "tags": []
   },
   "outputs": [
    {
     "name": "stdout",
     "output_type": "stream",
     "text": [
      "Ensemble Model Accuracy: 0.9998892408568327\n",
      "Ensemble Model Precision: 0.9998056667573555\n",
      "Ensemble Model Recall: 1.0\n"
     ]
    }
   ],
   "source": [
    "from sklearn.ensemble import VotingClassifier\n",
    "# Create the ensemble model using VotingClassifier\n",
    "\n",
    "ensemble_model = VotingClassifier(\n",
    "    estimators=[('knnear', knn), ('random', rf), ('gauss', gnb)],\n",
    "    voting='hard'  # Use 'hard' voting for majority vote or 'soft' for weighted probability voting\n",
    ")\n",
    "\n",
    "# Train the ensemble model\n",
    "ensemble_model.fit(X_train_selected, y_train)\n",
    "\n",
    "# Make predictions using the ensemble model\n",
    "ensemble_predictions = ensemble_model.predict(X_test_selected)\n",
    "\n",
    "# Calculate evaluation metrics for the ensemble model\n",
    "accuracy = accuracy_score(y_test, ensemble_predictions)\n",
    "precision = precision_score(y_test, ensemble_predictions, pos_label='DDoS')\n",
    "recall = recall_score(y_test, ensemble_predictions, pos_label='DDoS')\n",
    "\n",
    "print(\"Ensemble Model Accuracy:\", accuracy)\n",
    "print(\"Ensemble Model Precision:\", precision)\n",
    "print(\"Ensemble Model Recall:\", recall)\n"
   ]
  },
  {
   "cell_type": "code",
   "execution_count": 44,
   "id": "1531d754",
   "metadata": {
    "execution": {
     "iopub.execute_input": "2023-05-18T06:38:34.352691Z",
     "iopub.status.busy": "2023-05-18T06:38:34.352009Z",
     "iopub.status.idle": "2023-05-18T06:38:35.353722Z",
     "shell.execute_reply": "2023-05-18T06:38:35.352357Z"
    },
    "papermill": {
     "duration": 1.032869,
     "end_time": "2023-05-18T06:38:35.356533",
     "exception": false,
     "start_time": "2023-05-18T06:38:34.323664",
     "status": "completed"
    },
    "tags": []
   },
   "outputs": [
    {
     "name": "stdout",
     "output_type": "stream",
     "text": [
      "F1 Score:  0.9999028239364081\n"
     ]
    }
   ],
   "source": [
    "f1 = f1_score(y_test,ensemble_predictions, pos_label='DDoS')\n",
    "\n",
    "print(\"F1 Score: \", f1)"
   ]
  }
 ],
 "metadata": {
  "kernelspec": {
   "display_name": "Python 3",
   "language": "python",
   "name": "python3"
  },
  "language_info": {
   "codemirror_mode": {
    "name": "ipython",
    "version": 3
   },
   "file_extension": ".py",
   "mimetype": "text/x-python",
   "name": "python",
   "nbconvert_exporter": "python",
   "pygments_lexer": "ipython3",
   "version": "3.10.10"
  },
  "papermill": {
   "default_parameters": {},
   "duration": 287.254226,
   "end_time": "2023-05-18T06:38:36.509007",
   "environment_variables": {},
   "exception": null,
   "input_path": "__notebook__.ipynb",
   "output_path": "__notebook__.ipynb",
   "parameters": {},
   "start_time": "2023-05-18T06:33:49.254781",
   "version": "2.4.0"
  }
 },
 "nbformat": 4,
 "nbformat_minor": 5
}
